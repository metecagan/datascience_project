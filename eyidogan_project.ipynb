{
 "cells": [
  {
   "cell_type": "code",
   "execution_count": 1,
   "id": "108eca0a",
   "metadata": {},
   "outputs": [],
   "source": [
    "import sqlite3\n",
    "import pandas as pd\n",
    "\n",
    "from sklearn.model_selection import train_test_split\n",
    "from sklearn.neighbors import KNeighborsClassifier\n",
    "from sklearn.ensemble import GradientBoostingClassifier\n",
    "from sklearn.ensemble import RandomForestClassifier\n",
    "from sklearn.metrics import precision_score\n",
    "from sklearn.metrics import accuracy_score"
   ]
  },
  {
   "cell_type": "code",
   "execution_count": 2,
   "id": "4a44534f",
   "metadata": {},
   "outputs": [],
   "source": [
    "# connect database\n",
    "database = sqlite3.connect(\"database.sqlite\")"
   ]
  },
  {
   "cell_type": "code",
   "execution_count": 3,
   "id": "c4395172",
   "metadata": {},
   "outputs": [],
   "source": [
    "# Myleague is Germany 1. Bundesliga (id:7809) \n",
    "df = pd.read_sql_query(\"SELECT date, home_team_api_id,away_team_api_id,home_team_goal,away_team_goal FROM Match WHERE league_id is 7809\", database)"
   ]
  },
  {
   "cell_type": "code",
   "execution_count": 4,
   "id": "0eb56356",
   "metadata": {},
   "outputs": [
    {
     "data": {
      "text/html": [
       "<div>\n",
       "<style scoped>\n",
       "    .dataframe tbody tr th:only-of-type {\n",
       "        vertical-align: middle;\n",
       "    }\n",
       "\n",
       "    .dataframe tbody tr th {\n",
       "        vertical-align: top;\n",
       "    }\n",
       "\n",
       "    .dataframe thead th {\n",
       "        text-align: right;\n",
       "    }\n",
       "</style>\n",
       "<table border=\"1\" class=\"dataframe\">\n",
       "  <thead>\n",
       "    <tr style=\"text-align: right;\">\n",
       "      <th></th>\n",
       "      <th>date</th>\n",
       "      <th>home_team_api_id</th>\n",
       "      <th>away_team_api_id</th>\n",
       "      <th>home_team_goal</th>\n",
       "      <th>away_team_goal</th>\n",
       "    </tr>\n",
       "  </thead>\n",
       "  <tbody>\n",
       "    <tr>\n",
       "      <th>0</th>\n",
       "      <td>2008-08-15 00:00:00</td>\n",
       "      <td>9823</td>\n",
       "      <td>9790</td>\n",
       "      <td>2</td>\n",
       "      <td>2</td>\n",
       "    </tr>\n",
       "    <tr>\n",
       "      <th>1</th>\n",
       "      <td>2008-08-16 00:00:00</td>\n",
       "      <td>8178</td>\n",
       "      <td>9789</td>\n",
       "      <td>2</td>\n",
       "      <td>3</td>\n",
       "    </tr>\n",
       "    <tr>\n",
       "      <th>2</th>\n",
       "      <td>2008-08-16 00:00:00</td>\n",
       "      <td>10189</td>\n",
       "      <td>9904</td>\n",
       "      <td>3</td>\n",
       "      <td>0</td>\n",
       "    </tr>\n",
       "    <tr>\n",
       "      <th>3</th>\n",
       "      <td>2008-08-16 00:00:00</td>\n",
       "      <td>8721</td>\n",
       "      <td>8722</td>\n",
       "      <td>2</td>\n",
       "      <td>1</td>\n",
       "    </tr>\n",
       "    <tr>\n",
       "      <th>4</th>\n",
       "      <td>2008-08-17 00:00:00</td>\n",
       "      <td>9810</td>\n",
       "      <td>8177</td>\n",
       "      <td>0</td>\n",
       "      <td>2</td>\n",
       "    </tr>\n",
       "  </tbody>\n",
       "</table>\n",
       "</div>"
      ],
      "text/plain": [
       "                  date  home_team_api_id  away_team_api_id  home_team_goal  \\\n",
       "0  2008-08-15 00:00:00              9823              9790               2   \n",
       "1  2008-08-16 00:00:00              8178              9789               2   \n",
       "2  2008-08-16 00:00:00             10189              9904               3   \n",
       "3  2008-08-16 00:00:00              8721              8722               2   \n",
       "4  2008-08-17 00:00:00              9810              8177               0   \n",
       "\n",
       "   away_team_goal  \n",
       "0               2  \n",
       "1               3  \n",
       "2               0  \n",
       "3               1  \n",
       "4               2  "
      ]
     },
     "execution_count": 4,
     "metadata": {},
     "output_type": "execute_result"
    }
   ],
   "source": [
    "#first five data row\n",
    "df.head()"
   ]
  },
  {
   "cell_type": "code",
   "execution_count": 5,
   "id": "2fb02bb1",
   "metadata": {},
   "outputs": [
    {
     "data": {
      "text/plain": [
       "(2448, 5)"
      ]
     },
     "execution_count": 5,
     "metadata": {},
     "output_type": "execute_result"
    }
   ],
   "source": [
    "df.shape"
   ]
  },
  {
   "cell_type": "code",
   "execution_count": 6,
   "id": "7cc67d16",
   "metadata": {
    "scrolled": false
   },
   "outputs": [
    {
     "data": {
      "text/plain": [
       "date                0\n",
       "home_team_api_id    0\n",
       "away_team_api_id    0\n",
       "home_team_goal      0\n",
       "away_team_goal      0\n",
       "dtype: int64"
      ]
     },
     "execution_count": 6,
     "metadata": {},
     "output_type": "execute_result"
    }
   ],
   "source": [
    "# looking missing data\n",
    "df.isnull().sum()"
   ]
  },
  {
   "cell_type": "code",
   "execution_count": 7,
   "id": "1c4c2d36",
   "metadata": {},
   "outputs": [
    {
     "name": "stdout",
     "output_type": "stream",
     "text": [
      "Maximum goals scored by the home team: 9\n",
      "Maximum goals scored by the away team: 8\n",
      "Average of home team goal: 1.6266339869281046\n",
      "Average of away team goal: 1.2749183006535947\n"
     ]
    }
   ],
   "source": [
    "#statistics\n",
    "print(\"Maximum goals scored by the home team: {}\".format(df[\"home_team_goal\"].max()))\n",
    "print(\"Maximum goals scored by the away team: {}\".format(df[\"away_team_goal\"].max()))\n",
    "print(\"Average of home team goal: {}\".format(df[\"home_team_goal\"].mean()))\n",
    "print(\"Average of away team goal: {}\".format(df[\"away_team_goal\"].mean()))"
   ]
  },
  {
   "cell_type": "code",
   "execution_count": 8,
   "id": "de19e869",
   "metadata": {},
   "outputs": [],
   "source": [
    "def result_of_the_match(row):\n",
    "    if    row[\"home_team_goal\"] < row[\"away_team_goal\"]:\n",
    "        return \"L\"\n",
    "    elif  row[\"home_team_goal\"] > row[\"away_team_goal\"]:\n",
    "        return \"W\"\n",
    "    else:\n",
    "        return \"D\""
   ]
  },
  {
   "cell_type": "code",
   "execution_count": 9,
   "id": "2c7d2d7a",
   "metadata": {},
   "outputs": [],
   "source": [
    "df['match_result'] = df.apply (lambda row: result_of_the_match(row), axis=1)"
   ]
  },
  {
   "cell_type": "code",
   "execution_count": 10,
   "id": "84757cbf",
   "metadata": {
    "scrolled": true
   },
   "outputs": [
    {
     "data": {
      "text/html": [
       "<div>\n",
       "<style scoped>\n",
       "    .dataframe tbody tr th:only-of-type {\n",
       "        vertical-align: middle;\n",
       "    }\n",
       "\n",
       "    .dataframe tbody tr th {\n",
       "        vertical-align: top;\n",
       "    }\n",
       "\n",
       "    .dataframe thead th {\n",
       "        text-align: right;\n",
       "    }\n",
       "</style>\n",
       "<table border=\"1\" class=\"dataframe\">\n",
       "  <thead>\n",
       "    <tr style=\"text-align: right;\">\n",
       "      <th></th>\n",
       "      <th>date</th>\n",
       "      <th>home_team_api_id</th>\n",
       "      <th>away_team_api_id</th>\n",
       "      <th>home_team_goal</th>\n",
       "      <th>away_team_goal</th>\n",
       "      <th>match_result</th>\n",
       "    </tr>\n",
       "  </thead>\n",
       "  <tbody>\n",
       "    <tr>\n",
       "      <th>0</th>\n",
       "      <td>2008-08-15 00:00:00</td>\n",
       "      <td>9823</td>\n",
       "      <td>9790</td>\n",
       "      <td>2</td>\n",
       "      <td>2</td>\n",
       "      <td>D</td>\n",
       "    </tr>\n",
       "    <tr>\n",
       "      <th>1</th>\n",
       "      <td>2008-08-16 00:00:00</td>\n",
       "      <td>8178</td>\n",
       "      <td>9789</td>\n",
       "      <td>2</td>\n",
       "      <td>3</td>\n",
       "      <td>L</td>\n",
       "    </tr>\n",
       "    <tr>\n",
       "      <th>2</th>\n",
       "      <td>2008-08-16 00:00:00</td>\n",
       "      <td>10189</td>\n",
       "      <td>9904</td>\n",
       "      <td>3</td>\n",
       "      <td>0</td>\n",
       "      <td>W</td>\n",
       "    </tr>\n",
       "    <tr>\n",
       "      <th>3</th>\n",
       "      <td>2008-08-16 00:00:00</td>\n",
       "      <td>8721</td>\n",
       "      <td>8722</td>\n",
       "      <td>2</td>\n",
       "      <td>1</td>\n",
       "      <td>W</td>\n",
       "    </tr>\n",
       "    <tr>\n",
       "      <th>4</th>\n",
       "      <td>2008-08-17 00:00:00</td>\n",
       "      <td>9810</td>\n",
       "      <td>8177</td>\n",
       "      <td>0</td>\n",
       "      <td>2</td>\n",
       "      <td>L</td>\n",
       "    </tr>\n",
       "    <tr>\n",
       "      <th>...</th>\n",
       "      <td>...</td>\n",
       "      <td>...</td>\n",
       "      <td>...</td>\n",
       "      <td>...</td>\n",
       "      <td>...</td>\n",
       "      <td>...</td>\n",
       "    </tr>\n",
       "    <tr>\n",
       "      <th>2443</th>\n",
       "      <td>2015-10-17 00:00:00</td>\n",
       "      <td>8406</td>\n",
       "      <td>8262</td>\n",
       "      <td>0</td>\n",
       "      <td>2</td>\n",
       "      <td>L</td>\n",
       "    </tr>\n",
       "    <tr>\n",
       "      <th>2444</th>\n",
       "      <td>2015-10-17 00:00:00</td>\n",
       "      <td>8697</td>\n",
       "      <td>9823</td>\n",
       "      <td>0</td>\n",
       "      <td>1</td>\n",
       "      <td>L</td>\n",
       "    </tr>\n",
       "    <tr>\n",
       "      <th>2445</th>\n",
       "      <td>2015-10-17 00:00:00</td>\n",
       "      <td>9810</td>\n",
       "      <td>9788</td>\n",
       "      <td>1</td>\n",
       "      <td>5</td>\n",
       "      <td>L</td>\n",
       "    </tr>\n",
       "    <tr>\n",
       "      <th>2446</th>\n",
       "      <td>2015-10-18 00:00:00</td>\n",
       "      <td>8722</td>\n",
       "      <td>9904</td>\n",
       "      <td>0</td>\n",
       "      <td>1</td>\n",
       "      <td>L</td>\n",
       "    </tr>\n",
       "    <tr>\n",
       "      <th>2447</th>\n",
       "      <td>2015-10-16 00:00:00</td>\n",
       "      <td>9905</td>\n",
       "      <td>9789</td>\n",
       "      <td>0</td>\n",
       "      <td>2</td>\n",
       "      <td>L</td>\n",
       "    </tr>\n",
       "  </tbody>\n",
       "</table>\n",
       "<p>2448 rows × 6 columns</p>\n",
       "</div>"
      ],
      "text/plain": [
       "                     date  home_team_api_id  away_team_api_id  home_team_goal  \\\n",
       "0     2008-08-15 00:00:00              9823              9790               2   \n",
       "1     2008-08-16 00:00:00              8178              9789               2   \n",
       "2     2008-08-16 00:00:00             10189              9904               3   \n",
       "3     2008-08-16 00:00:00              8721              8722               2   \n",
       "4     2008-08-17 00:00:00              9810              8177               0   \n",
       "...                   ...               ...               ...             ...   \n",
       "2443  2015-10-17 00:00:00              8406              8262               0   \n",
       "2444  2015-10-17 00:00:00              8697              9823               0   \n",
       "2445  2015-10-17 00:00:00              9810              9788               1   \n",
       "2446  2015-10-18 00:00:00              8722              9904               0   \n",
       "2447  2015-10-16 00:00:00              9905              9789               0   \n",
       "\n",
       "      away_team_goal match_result  \n",
       "0                  2            D  \n",
       "1                  3            L  \n",
       "2                  0            W  \n",
       "3                  1            W  \n",
       "4                  2            L  \n",
       "...              ...          ...  \n",
       "2443               2            L  \n",
       "2444               1            L  \n",
       "2445               5            L  \n",
       "2446               1            L  \n",
       "2447               2            L  \n",
       "\n",
       "[2448 rows x 6 columns]"
      ]
     },
     "execution_count": 10,
     "metadata": {},
     "output_type": "execute_result"
    }
   ],
   "source": [
    "df"
   ]
  },
  {
   "cell_type": "code",
   "execution_count": 11,
   "id": "f98e7581",
   "metadata": {
    "scrolled": true
   },
   "outputs": [
    {
     "data": {
      "text/plain": [
       "date                object\n",
       "home_team_api_id     int64\n",
       "away_team_api_id     int64\n",
       "home_team_goal       int64\n",
       "away_team_goal       int64\n",
       "match_result        object\n",
       "dtype: object"
      ]
     },
     "execution_count": 11,
     "metadata": {},
     "output_type": "execute_result"
    }
   ],
   "source": [
    "df.dtypes"
   ]
  },
  {
   "cell_type": "code",
   "execution_count": 12,
   "id": "2c7d53fc",
   "metadata": {},
   "outputs": [],
   "source": [
    "df[\"result\"] = df[\"match_result\"].astype(\"category\").cat.codes"
   ]
  },
  {
   "cell_type": "code",
   "execution_count": 13,
   "id": "1b9d75af",
   "metadata": {
    "scrolled": true
   },
   "outputs": [
    {
     "data": {
      "text/html": [
       "<div>\n",
       "<style scoped>\n",
       "    .dataframe tbody tr th:only-of-type {\n",
       "        vertical-align: middle;\n",
       "    }\n",
       "\n",
       "    .dataframe tbody tr th {\n",
       "        vertical-align: top;\n",
       "    }\n",
       "\n",
       "    .dataframe thead th {\n",
       "        text-align: right;\n",
       "    }\n",
       "</style>\n",
       "<table border=\"1\" class=\"dataframe\">\n",
       "  <thead>\n",
       "    <tr style=\"text-align: right;\">\n",
       "      <th></th>\n",
       "      <th>date</th>\n",
       "      <th>home_team_api_id</th>\n",
       "      <th>away_team_api_id</th>\n",
       "      <th>home_team_goal</th>\n",
       "      <th>away_team_goal</th>\n",
       "      <th>match_result</th>\n",
       "      <th>result</th>\n",
       "    </tr>\n",
       "  </thead>\n",
       "  <tbody>\n",
       "    <tr>\n",
       "      <th>0</th>\n",
       "      <td>2008-08-15 00:00:00</td>\n",
       "      <td>9823</td>\n",
       "      <td>9790</td>\n",
       "      <td>2</td>\n",
       "      <td>2</td>\n",
       "      <td>D</td>\n",
       "      <td>0</td>\n",
       "    </tr>\n",
       "    <tr>\n",
       "      <th>1</th>\n",
       "      <td>2008-08-16 00:00:00</td>\n",
       "      <td>8178</td>\n",
       "      <td>9789</td>\n",
       "      <td>2</td>\n",
       "      <td>3</td>\n",
       "      <td>L</td>\n",
       "      <td>1</td>\n",
       "    </tr>\n",
       "    <tr>\n",
       "      <th>2</th>\n",
       "      <td>2008-08-16 00:00:00</td>\n",
       "      <td>10189</td>\n",
       "      <td>9904</td>\n",
       "      <td>3</td>\n",
       "      <td>0</td>\n",
       "      <td>W</td>\n",
       "      <td>2</td>\n",
       "    </tr>\n",
       "    <tr>\n",
       "      <th>3</th>\n",
       "      <td>2008-08-16 00:00:00</td>\n",
       "      <td>8721</td>\n",
       "      <td>8722</td>\n",
       "      <td>2</td>\n",
       "      <td>1</td>\n",
       "      <td>W</td>\n",
       "      <td>2</td>\n",
       "    </tr>\n",
       "    <tr>\n",
       "      <th>4</th>\n",
       "      <td>2008-08-17 00:00:00</td>\n",
       "      <td>9810</td>\n",
       "      <td>8177</td>\n",
       "      <td>0</td>\n",
       "      <td>2</td>\n",
       "      <td>L</td>\n",
       "      <td>1</td>\n",
       "    </tr>\n",
       "    <tr>\n",
       "      <th>...</th>\n",
       "      <td>...</td>\n",
       "      <td>...</td>\n",
       "      <td>...</td>\n",
       "      <td>...</td>\n",
       "      <td>...</td>\n",
       "      <td>...</td>\n",
       "      <td>...</td>\n",
       "    </tr>\n",
       "    <tr>\n",
       "      <th>2443</th>\n",
       "      <td>2015-10-17 00:00:00</td>\n",
       "      <td>8406</td>\n",
       "      <td>8262</td>\n",
       "      <td>0</td>\n",
       "      <td>2</td>\n",
       "      <td>L</td>\n",
       "      <td>1</td>\n",
       "    </tr>\n",
       "    <tr>\n",
       "      <th>2444</th>\n",
       "      <td>2015-10-17 00:00:00</td>\n",
       "      <td>8697</td>\n",
       "      <td>9823</td>\n",
       "      <td>0</td>\n",
       "      <td>1</td>\n",
       "      <td>L</td>\n",
       "      <td>1</td>\n",
       "    </tr>\n",
       "    <tr>\n",
       "      <th>2445</th>\n",
       "      <td>2015-10-17 00:00:00</td>\n",
       "      <td>9810</td>\n",
       "      <td>9788</td>\n",
       "      <td>1</td>\n",
       "      <td>5</td>\n",
       "      <td>L</td>\n",
       "      <td>1</td>\n",
       "    </tr>\n",
       "    <tr>\n",
       "      <th>2446</th>\n",
       "      <td>2015-10-18 00:00:00</td>\n",
       "      <td>8722</td>\n",
       "      <td>9904</td>\n",
       "      <td>0</td>\n",
       "      <td>1</td>\n",
       "      <td>L</td>\n",
       "      <td>1</td>\n",
       "    </tr>\n",
       "    <tr>\n",
       "      <th>2447</th>\n",
       "      <td>2015-10-16 00:00:00</td>\n",
       "      <td>9905</td>\n",
       "      <td>9789</td>\n",
       "      <td>0</td>\n",
       "      <td>2</td>\n",
       "      <td>L</td>\n",
       "      <td>1</td>\n",
       "    </tr>\n",
       "  </tbody>\n",
       "</table>\n",
       "<p>2448 rows × 7 columns</p>\n",
       "</div>"
      ],
      "text/plain": [
       "                     date  home_team_api_id  away_team_api_id  home_team_goal  \\\n",
       "0     2008-08-15 00:00:00              9823              9790               2   \n",
       "1     2008-08-16 00:00:00              8178              9789               2   \n",
       "2     2008-08-16 00:00:00             10189              9904               3   \n",
       "3     2008-08-16 00:00:00              8721              8722               2   \n",
       "4     2008-08-17 00:00:00              9810              8177               0   \n",
       "...                   ...               ...               ...             ...   \n",
       "2443  2015-10-17 00:00:00              8406              8262               0   \n",
       "2444  2015-10-17 00:00:00              8697              9823               0   \n",
       "2445  2015-10-17 00:00:00              9810              9788               1   \n",
       "2446  2015-10-18 00:00:00              8722              9904               0   \n",
       "2447  2015-10-16 00:00:00              9905              9789               0   \n",
       "\n",
       "      away_team_goal match_result  result  \n",
       "0                  2            D       0  \n",
       "1                  3            L       1  \n",
       "2                  0            W       2  \n",
       "3                  1            W       2  \n",
       "4                  2            L       1  \n",
       "...              ...          ...     ...  \n",
       "2443               2            L       1  \n",
       "2444               1            L       1  \n",
       "2445               5            L       1  \n",
       "2446               1            L       1  \n",
       "2447               2            L       1  \n",
       "\n",
       "[2448 rows x 7 columns]"
      ]
     },
     "execution_count": 13,
     "metadata": {},
     "output_type": "execute_result"
    }
   ],
   "source": [
    "df"
   ]
  },
  {
   "cell_type": "code",
   "execution_count": 14,
   "id": "0aba51d3",
   "metadata": {},
   "outputs": [
    {
     "data": {
      "text/plain": [
       "9823     136\n",
       "9790     136\n",
       "8226     136\n",
       "9904     136\n",
       "8178     136\n",
       "9789     136\n",
       "8697     136\n",
       "10269    136\n",
       "8721     136\n",
       "10189    136\n",
       "9788     136\n",
       "9810     119\n",
       "9905     119\n",
       "8177     102\n",
       "8722     102\n",
       "8358     102\n",
       "8165      85\n",
       "8406      85\n",
       "9911      34\n",
       "8350      34\n",
       "8194      17\n",
       "8262      17\n",
       "8460      17\n",
       "9776      17\n",
       "8295      17\n",
       "8357      17\n",
       "8152      17\n",
       "9912      17\n",
       "8398      17\n",
       "8234      17\n",
       "Name: home_team_api_id, dtype: int64"
      ]
     },
     "execution_count": 14,
     "metadata": {},
     "output_type": "execute_result"
    }
   ],
   "source": [
    "#how many matches did the teams play?\n",
    "df[\"home_team_api_id\"].value_counts()"
   ]
  },
  {
   "cell_type": "code",
   "execution_count": 15,
   "id": "c1652fe9",
   "metadata": {},
   "outputs": [
    {
     "data": {
      "text/html": [
       "<div>\n",
       "<style scoped>\n",
       "    .dataframe tbody tr th:only-of-type {\n",
       "        vertical-align: middle;\n",
       "    }\n",
       "\n",
       "    .dataframe tbody tr th {\n",
       "        vertical-align: top;\n",
       "    }\n",
       "\n",
       "    .dataframe thead th {\n",
       "        text-align: right;\n",
       "    }\n",
       "</style>\n",
       "<table border=\"1\" class=\"dataframe\">\n",
       "  <thead>\n",
       "    <tr style=\"text-align: right;\">\n",
       "      <th></th>\n",
       "      <th>date</th>\n",
       "      <th>home_team_api_id</th>\n",
       "      <th>away_team_api_id</th>\n",
       "      <th>home_team_goal</th>\n",
       "      <th>away_team_goal</th>\n",
       "      <th>match_result</th>\n",
       "      <th>result</th>\n",
       "    </tr>\n",
       "  </thead>\n",
       "  <tbody>\n",
       "    <tr>\n",
       "      <th>20</th>\n",
       "      <td>2008-11-02 00:00:00</td>\n",
       "      <td>9789</td>\n",
       "      <td>9911</td>\n",
       "      <td>1</td>\n",
       "      <td>1</td>\n",
       "      <td>D</td>\n",
       "      <td>0</td>\n",
       "    </tr>\n",
       "    <tr>\n",
       "      <th>37</th>\n",
       "      <td>2008-11-15 00:00:00</td>\n",
       "      <td>9789</td>\n",
       "      <td>9810</td>\n",
       "      <td>4</td>\n",
       "      <td>0</td>\n",
       "      <td>W</td>\n",
       "      <td>2</td>\n",
       "    </tr>\n",
       "    <tr>\n",
       "      <th>55</th>\n",
       "      <td>2008-11-30 00:00:00</td>\n",
       "      <td>9789</td>\n",
       "      <td>8721</td>\n",
       "      <td>0</td>\n",
       "      <td>0</td>\n",
       "      <td>D</td>\n",
       "      <td>0</td>\n",
       "    </tr>\n",
       "    <tr>\n",
       "      <th>74</th>\n",
       "      <td>2008-12-12 00:00:00</td>\n",
       "      <td>9789</td>\n",
       "      <td>9788</td>\n",
       "      <td>2</td>\n",
       "      <td>1</td>\n",
       "      <td>W</td>\n",
       "      <td>2</td>\n",
       "    </tr>\n",
       "    <tr>\n",
       "      <th>82</th>\n",
       "      <td>2009-01-31 00:00:00</td>\n",
       "      <td>9789</td>\n",
       "      <td>8178</td>\n",
       "      <td>1</td>\n",
       "      <td>1</td>\n",
       "      <td>D</td>\n",
       "      <td>0</td>\n",
       "    </tr>\n",
       "    <tr>\n",
       "      <th>...</th>\n",
       "      <td>...</td>\n",
       "      <td>...</td>\n",
       "      <td>...</td>\n",
       "      <td>...</td>\n",
       "      <td>...</td>\n",
       "      <td>...</td>\n",
       "      <td>...</td>\n",
       "    </tr>\n",
       "    <tr>\n",
       "      <th>2380</th>\n",
       "      <td>2016-05-07 00:00:00</td>\n",
       "      <td>9810</td>\n",
       "      <td>9789</td>\n",
       "      <td>1</td>\n",
       "      <td>0</td>\n",
       "      <td>W</td>\n",
       "      <td>2</td>\n",
       "    </tr>\n",
       "    <tr>\n",
       "      <th>2399</th>\n",
       "      <td>2015-09-12 00:00:00</td>\n",
       "      <td>9904</td>\n",
       "      <td>9789</td>\n",
       "      <td>2</td>\n",
       "      <td>4</td>\n",
       "      <td>L</td>\n",
       "      <td>1</td>\n",
       "    </tr>\n",
       "    <tr>\n",
       "      <th>2418</th>\n",
       "      <td>2015-09-23 00:00:00</td>\n",
       "      <td>8226</td>\n",
       "      <td>9789</td>\n",
       "      <td>1</td>\n",
       "      <td>1</td>\n",
       "      <td>D</td>\n",
       "      <td>0</td>\n",
       "    </tr>\n",
       "    <tr>\n",
       "      <th>2430</th>\n",
       "      <td>2015-10-04 00:00:00</td>\n",
       "      <td>9823</td>\n",
       "      <td>9789</td>\n",
       "      <td>5</td>\n",
       "      <td>1</td>\n",
       "      <td>W</td>\n",
       "      <td>2</td>\n",
       "    </tr>\n",
       "    <tr>\n",
       "      <th>2447</th>\n",
       "      <td>2015-10-16 00:00:00</td>\n",
       "      <td>9905</td>\n",
       "      <td>9789</td>\n",
       "      <td>0</td>\n",
       "      <td>2</td>\n",
       "      <td>L</td>\n",
       "      <td>1</td>\n",
       "    </tr>\n",
       "  </tbody>\n",
       "</table>\n",
       "<p>272 rows × 7 columns</p>\n",
       "</div>"
      ],
      "text/plain": [
       "                     date  home_team_api_id  away_team_api_id  home_team_goal  \\\n",
       "20    2008-11-02 00:00:00              9789              9911               1   \n",
       "37    2008-11-15 00:00:00              9789              9810               4   \n",
       "55    2008-11-30 00:00:00              9789              8721               0   \n",
       "74    2008-12-12 00:00:00              9789              9788               2   \n",
       "82    2009-01-31 00:00:00              9789              8178               1   \n",
       "...                   ...               ...               ...             ...   \n",
       "2380  2016-05-07 00:00:00              9810              9789               1   \n",
       "2399  2015-09-12 00:00:00              9904              9789               2   \n",
       "2418  2015-09-23 00:00:00              8226              9789               1   \n",
       "2430  2015-10-04 00:00:00              9823              9789               5   \n",
       "2447  2015-10-16 00:00:00              9905              9789               0   \n",
       "\n",
       "      away_team_goal match_result  result  \n",
       "20                 1            D       0  \n",
       "37                 0            W       2  \n",
       "55                 0            D       0  \n",
       "74                 1            W       2  \n",
       "82                 1            D       0  \n",
       "...              ...          ...     ...  \n",
       "2380               0            W       2  \n",
       "2399               4            L       1  \n",
       "2418               1            D       0  \n",
       "2430               1            W       2  \n",
       "2447               2            L       1  \n",
       "\n",
       "[272 rows x 7 columns]"
      ]
     },
     "execution_count": 15,
     "metadata": {},
     "output_type": "execute_result"
    }
   ],
   "source": [
    "#get borussia dortmund data\n",
    "home = df[df[\"home_team_api_id\"] == 9789]\n",
    "away = df[df[\"away_team_api_id\"] == 9789]\n",
    "borussia_dortmund_matches= pd.concat([home, away])\n",
    "borussia_dortmund_matches"
   ]
  },
  {
   "cell_type": "code",
   "execution_count": 16,
   "id": "280593b0",
   "metadata": {},
   "outputs": [],
   "source": [
    "n_matches_borussia_dortmund = borussia_dortmund_matches.shape[0]\n",
    "n_wins = (borussia_dortmund_matches.match_result == \"W\").sum()\n",
    "win_rate = (float(n_wins) / n_matches_borussia_dortmund) * 100"
   ]
  },
  {
   "cell_type": "code",
   "execution_count": 17,
   "id": "745c021e",
   "metadata": {
    "scrolled": true
   },
   "outputs": [
    {
     "name": "stdout",
     "output_type": "stream",
     "text": [
      "Total number of matches that Borussia Dortmund played: 272\n",
      "Number of matches won by Borussia Dortmund: 123\n",
      "Win rate: 45.220588235294116%\n"
     ]
    }
   ],
   "source": [
    "print(\"Total number of matches that Borussia Dortmund played: {}\".format(n_matches_borussia_dortmund))\n",
    "print(\"Number of matches won by Borussia Dortmund: {}\".format(n_wins))\n",
    "print(\"Win rate: {}%\".format(win_rate))"
   ]
  },
  {
   "cell_type": "code",
   "execution_count": 18,
   "id": "6e118b3f",
   "metadata": {
    "scrolled": true
   },
   "outputs": [
    {
     "name": "stdout",
     "output_type": "stream",
     "text": [
      "The maximum home goals scored by Borussia Dortmund: 6\n",
      "The maximum away goals scored by Borussia Dortmund: 6\n",
      "The home goal average of Borussia Dortmund scored: 1.7205882352941178\n",
      "The away goal average of Borussia Dortmund scored: 1.3419117647058822\n"
     ]
    }
   ],
   "source": [
    "print(\"The maximum home goals scored by Borussia Dortmund: {}\".format(borussia_dortmund_matches[\"home_team_goal\"].max()))\n",
    "print(\"The maximum away goals scored by Borussia Dortmund: {}\".format(borussia_dortmund_matches[\"away_team_goal\"].max()))\n",
    "print(\"The home goal average of Borussia Dortmund scored: {}\".format(borussia_dortmund_matches[\"home_team_goal\"].mean()))\n",
    "print(\"The away goal average of Borussia Dortmund scored: {}\".format(borussia_dortmund_matches[\"away_team_goal\"].mean()))"
   ]
  },
  {
   "cell_type": "code",
   "execution_count": 19,
   "id": "8ad502d9",
   "metadata": {},
   "outputs": [],
   "source": [
    "train, test = train_test_split(borussia_dortmund_matches, test_size=0.2, random_state=25)"
   ]
  },
  {
   "cell_type": "code",
   "execution_count": 20,
   "id": "736f8cb9",
   "metadata": {
    "scrolled": true
   },
   "outputs": [
    {
     "name": "stdout",
     "output_type": "stream",
     "text": [
      "Number of training: 217\n",
      "Number of testing: 55\n"
     ]
    }
   ],
   "source": [
    "print(f\"Number of training: {train.shape[0]}\")\n",
    "print(f\"Number of testing: {test.shape[0]}\")"
   ]
  },
  {
   "cell_type": "code",
   "execution_count": 21,
   "id": "524dfc42",
   "metadata": {},
   "outputs": [],
   "source": [
    "predictors = [\"home_team_api_id\", \"away_team_api_id\"]"
   ]
  },
  {
   "cell_type": "code",
   "execution_count": 22,
   "id": "a52d6b92",
   "metadata": {},
   "outputs": [],
   "source": [
    "knear = KNeighborsClassifier(n_neighbors=5)\n",
    "knear.fit(train[predictors], train[\"result\"])\n",
    "knear_prediction = knear.predict(test[predictors])\n",
    "knear_acc = accuracy_score(test[\"result\"], knear_prediction)\n",
    "knear_score = precision_score(test[\"result\"], knear_prediction, average=\"micro\")"
   ]
  },
  {
   "cell_type": "code",
   "execution_count": 23,
   "id": "d7acbe77",
   "metadata": {},
   "outputs": [],
   "source": [
    "randf = RandomForestClassifier(n_estimators=70, min_samples_split=10, random_state=1)\n",
    "randf.fit(train[predictors], train[\"result\"])\n",
    "randf_prediction = randf.predict(test[predictors])\n",
    "randf_acc = accuracy_score(test[\"result\"], randf_prediction)\n",
    "randf_score = precision_score(test[\"result\"], randf_prediction, average=\"micro\")"
   ]
  },
  {
   "cell_type": "code",
   "execution_count": 24,
   "id": "36db0783",
   "metadata": {},
   "outputs": [],
   "source": [
    "gb = GradientBoostingClassifier(n_estimators=100, learning_rate=1.0, max_depth=1, random_state=0)\n",
    "gb.fit(train[predictors], train[\"result\"])\n",
    "gb_prediction = gb.predict(test[predictors])\n",
    "gb_acc = accuracy_score(test[\"result\"], gb_prediction)\n",
    "gb_score = precision_score(test[\"result\"], gb_prediction, average=\"micro\")"
   ]
  },
  {
   "cell_type": "code",
   "execution_count": 25,
   "id": "9717cddf",
   "metadata": {
    "scrolled": true
   },
   "outputs": [
    {
     "name": "stdout",
     "output_type": "stream",
     "text": [
      "K-nearest Classifier Accuracy Score: 50.90909090909091%\n",
      "Random Forrest Classifier Accuracy Score: 54.54545454545454%\n",
      "Gradient Boosting Classifier Accuracy Score: 52.72727272727272%\n"
     ]
    }
   ],
   "source": [
    "print(\"K-nearest Classifier Accuracy Score: {}%\".format(knear_acc*100))\n",
    "print(\"Random Forrest Classifier Accuracy Score: {}%\".format(randf_acc*100))\n",
    "print(\"Gradient Boosting Classifier Accuracy Score: {}%\".format(gb_acc*100))"
   ]
  },
  {
   "cell_type": "code",
   "execution_count": 26,
   "id": "ed2c9f56",
   "metadata": {},
   "outputs": [
    {
     "data": {
      "text/html": [
       "<div>\n",
       "<style scoped>\n",
       "    .dataframe tbody tr th:only-of-type {\n",
       "        vertical-align: middle;\n",
       "    }\n",
       "\n",
       "    .dataframe tbody tr th {\n",
       "        vertical-align: top;\n",
       "    }\n",
       "\n",
       "    .dataframe thead th {\n",
       "        text-align: right;\n",
       "    }\n",
       "</style>\n",
       "<table border=\"1\" class=\"dataframe\">\n",
       "  <thead>\n",
       "    <tr style=\"text-align: right;\">\n",
       "      <th>predicted</th>\n",
       "      <th>0</th>\n",
       "      <th>1</th>\n",
       "      <th>2</th>\n",
       "    </tr>\n",
       "    <tr>\n",
       "      <th>actual</th>\n",
       "      <th></th>\n",
       "      <th></th>\n",
       "      <th></th>\n",
       "    </tr>\n",
       "  </thead>\n",
       "  <tbody>\n",
       "    <tr>\n",
       "      <th>0</th>\n",
       "      <td>1</td>\n",
       "      <td>4</td>\n",
       "      <td>7</td>\n",
       "    </tr>\n",
       "    <tr>\n",
       "      <th>1</th>\n",
       "      <td>5</td>\n",
       "      <td>12</td>\n",
       "      <td>5</td>\n",
       "    </tr>\n",
       "    <tr>\n",
       "      <th>2</th>\n",
       "      <td>2</td>\n",
       "      <td>4</td>\n",
       "      <td>15</td>\n",
       "    </tr>\n",
       "  </tbody>\n",
       "</table>\n",
       "</div>"
      ],
      "text/plain": [
       "predicted  0   1   2\n",
       "actual              \n",
       "0          1   4   7\n",
       "1          5  12   5\n",
       "2          2   4  15"
      ]
     },
     "execution_count": 26,
     "metadata": {},
     "output_type": "execute_result"
    }
   ],
   "source": [
    "matrix = pd.DataFrame(dict(actual=test[\"result\"], predicted=knear_prediction))\n",
    "pd.crosstab(index=matrix[\"actual\"], columns=matrix[\"predicted\"])"
   ]
  },
  {
   "cell_type": "code",
   "execution_count": 27,
   "id": "1e98ba41",
   "metadata": {},
   "outputs": [
    {
     "data": {
      "text/html": [
       "<div>\n",
       "<style scoped>\n",
       "    .dataframe tbody tr th:only-of-type {\n",
       "        vertical-align: middle;\n",
       "    }\n",
       "\n",
       "    .dataframe tbody tr th {\n",
       "        vertical-align: top;\n",
       "    }\n",
       "\n",
       "    .dataframe thead th {\n",
       "        text-align: right;\n",
       "    }\n",
       "</style>\n",
       "<table border=\"1\" class=\"dataframe\">\n",
       "  <thead>\n",
       "    <tr style=\"text-align: right;\">\n",
       "      <th>predicted</th>\n",
       "      <th>0</th>\n",
       "      <th>1</th>\n",
       "      <th>2</th>\n",
       "    </tr>\n",
       "    <tr>\n",
       "      <th>actual</th>\n",
       "      <th></th>\n",
       "      <th></th>\n",
       "      <th></th>\n",
       "    </tr>\n",
       "  </thead>\n",
       "  <tbody>\n",
       "    <tr>\n",
       "      <th>0</th>\n",
       "      <td>0</td>\n",
       "      <td>6</td>\n",
       "      <td>6</td>\n",
       "    </tr>\n",
       "    <tr>\n",
       "      <th>1</th>\n",
       "      <td>2</td>\n",
       "      <td>14</td>\n",
       "      <td>6</td>\n",
       "    </tr>\n",
       "    <tr>\n",
       "      <th>2</th>\n",
       "      <td>2</td>\n",
       "      <td>3</td>\n",
       "      <td>16</td>\n",
       "    </tr>\n",
       "  </tbody>\n",
       "</table>\n",
       "</div>"
      ],
      "text/plain": [
       "predicted  0   1   2\n",
       "actual              \n",
       "0          0   6   6\n",
       "1          2  14   6\n",
       "2          2   3  16"
      ]
     },
     "execution_count": 27,
     "metadata": {},
     "output_type": "execute_result"
    }
   ],
   "source": [
    "matrix = pd.DataFrame(dict(actual=test[\"result\"], predicted=randf_prediction))\n",
    "pd.crosstab(index=matrix[\"actual\"], columns=matrix[\"predicted\"])"
   ]
  },
  {
   "cell_type": "code",
   "execution_count": 28,
   "id": "a93a0d5f",
   "metadata": {},
   "outputs": [
    {
     "data": {
      "text/html": [
       "<div>\n",
       "<style scoped>\n",
       "    .dataframe tbody tr th:only-of-type {\n",
       "        vertical-align: middle;\n",
       "    }\n",
       "\n",
       "    .dataframe tbody tr th {\n",
       "        vertical-align: top;\n",
       "    }\n",
       "\n",
       "    .dataframe thead th {\n",
       "        text-align: right;\n",
       "    }\n",
       "</style>\n",
       "<table border=\"1\" class=\"dataframe\">\n",
       "  <thead>\n",
       "    <tr style=\"text-align: right;\">\n",
       "      <th>predicted</th>\n",
       "      <th>0</th>\n",
       "      <th>1</th>\n",
       "      <th>2</th>\n",
       "    </tr>\n",
       "    <tr>\n",
       "      <th>actual</th>\n",
       "      <th></th>\n",
       "      <th></th>\n",
       "      <th></th>\n",
       "    </tr>\n",
       "  </thead>\n",
       "  <tbody>\n",
       "    <tr>\n",
       "      <th>0</th>\n",
       "      <td>0</td>\n",
       "      <td>3</td>\n",
       "      <td>9</td>\n",
       "    </tr>\n",
       "    <tr>\n",
       "      <th>1</th>\n",
       "      <td>3</td>\n",
       "      <td>11</td>\n",
       "      <td>8</td>\n",
       "    </tr>\n",
       "    <tr>\n",
       "      <th>2</th>\n",
       "      <td>1</td>\n",
       "      <td>2</td>\n",
       "      <td>18</td>\n",
       "    </tr>\n",
       "  </tbody>\n",
       "</table>\n",
       "</div>"
      ],
      "text/plain": [
       "predicted  0   1   2\n",
       "actual              \n",
       "0          0   3   9\n",
       "1          3  11   8\n",
       "2          1   2  18"
      ]
     },
     "execution_count": 28,
     "metadata": {},
     "output_type": "execute_result"
    }
   ],
   "source": [
    "matrix = pd.DataFrame(dict(actual=test[\"result\"], predicted=gb_prediction))\n",
    "pd.crosstab(index=matrix[\"actual\"], columns=matrix[\"predicted\"])"
   ]
  },
  {
   "cell_type": "code",
   "execution_count": 29,
   "id": "8498953d",
   "metadata": {},
   "outputs": [
    {
     "name": "stdout",
     "output_type": "stream",
     "text": [
      "K-nearest Precision score: 50.90909090909091%\n",
      "Random Forrest Precision score: 54.54545454545454%\n",
      "Gradient Boosting Precision score: 52.72727272727272%\n"
     ]
    }
   ],
   "source": [
    "print(\"K-nearest Precision score: {}%\".format(knear_score*100))\n",
    "print(\"Random Forrest Precision score: {}%\".format(randf_score*100))\n",
    "print(\"Gradient Boosting Precision score: {}%\".format(gb_score*100))"
   ]
  }
 ],
 "metadata": {
  "kernelspec": {
   "display_name": "Python 3 (ipykernel)",
   "language": "python",
   "name": "python3"
  },
  "language_info": {
   "codemirror_mode": {
    "name": "ipython",
    "version": 3
   },
   "file_extension": ".py",
   "mimetype": "text/x-python",
   "name": "python",
   "nbconvert_exporter": "python",
   "pygments_lexer": "ipython3",
   "version": "3.9.7"
  }
 },
 "nbformat": 4,
 "nbformat_minor": 5
}
